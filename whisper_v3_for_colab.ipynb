{
  "cells": [
    {
      "cell_type": "markdown",
      "metadata": {
        "id": "7NRnJMZ9CCCm"
      },
      "source": [
        "# 動画をテキスト化するツールです。\n",
        "mp3をテキスト化する場合→①②を実行\n",
        "<br>\n",
        "youtubeの動画をテキスト化する場合①③を実行\n",
        "<br>\n",
        "mp4をアップロードボタンに入れた場合でも変換はできますが、\n",
        "<br>\n",
        "google colabの仕様により、アップロードに非常に時間がかかります。\n",
        "<br>2023/11/08 whisper v3に対応しました。"
      ]
    },
    {
      "cell_type": "markdown",
      "metadata": {
        "id": "eaCrWD7gCqty"
      },
      "source": [
        "<h2>\n",
        "①google driveの読み込み\n",
        "</h2>\n",
        "<h3>\n",
        "google driveに文字起こししたテキストを保存するのに使います。\n",
        "<br>\n",
        "ポップアップが出たら、自身のgoogleアカウントでログインし、許可してください。\n",
        "<br>\n",
        "また、実行すると音声AIのwhisper v3が自動的にインストールされます。\n"
      ]
    },
    {
      "cell_type": "code",
      "execution_count": null,
      "metadata": {
        "id": "qbxD0yxVaVK2"
      },
      "outputs": [],
      "source": [
        "#ドライブへ保存するためのコードです。はじめに使用して下さい。\n",
        "from google.colab import drive\n",
        "drive.mount('/content/drive')\n",
        "! pip install -U openai-whisper\n",
        "import whisper\n",
        "model = whisper.load_model(\"large\")"
      ]
    },
    {
      "cell_type": "markdown",
      "metadata": {
        "id": "37PtxUK7GJBC"
      },
      "source": [
        "#②mp3をテキスト化\n",
        "<h3>\n",
        "再生ボタンを押すと表示される下の緑色の<br>\n",
        "「ファイルを選択」ボタンからmp3ファイルをアップロードしてください。\n",
        "<br>\n",
        "最終的にgoogle driveにテキストファイルが保存されます。\n",
        "\n",
        "<br>\n",
        "この処理は時間がかかる場合があります。特に長時間の動画は相当の時間がかかります。\n"
      ]
    },
    {
      "cell_type": "code",
      "execution_count": null,
      "metadata": {
        "id": "lQw_P6Fw16K4"
      },
      "outputs": [],
      "source": [
        "from google.colab import files\n",
        "import ipywidgets as widgets\n",
        "from IPython.display import display\n",
        "import os\n",
        "import time\n",
        "import whisper\n",
        "\n",
        "# ffmpegのインストール\n",
        "get_ipython().system('pip install ffmpeg')\n",
        "import ffmpeg\n",
        "def convert_mp4_to_mp3(input_path, output_path):\n",
        "    (\n",
        "        ffmpeg\n",
        "        .input(input_path)\n",
        "        .output(output_path)\n",
        "        .run()\n",
        "    )\n",
        "\n",
        "def upload_and_convert(change):\n",
        "    uploaded = files.upload()\n",
        "    for fn in uploaded.keys():\n",
        "        file_path = '/content/' + fn\n",
        "        print('アップロードされたファイル:', fn)\n",
        "\n",
        "        # mp4かmp3か判別\n",
        "        if fn.endswith('.mp4'):\n",
        "            mp3_path = file_path.replace('.mp4', '.mp3')\n",
        "            convert_mp4_to_mp3(file_path, mp3_path)  # ここで変換関数を呼び出す\n",
        "            file_path = mp3_path  # 変換後のパスを更新\n",
        "            print(\"mp3への変換が完了しました。\")\n",
        "        # Display the file path of the mp3\n",
        "        print('File path:', file_path)\n",
        "\n",
        "        #flush\n",
        "        time.sleep(1)\n",
        "        print(\"文字起こしを開始します。この動作にはしばらく時間がかかる場合があります。画面を閉じずにお待ちください\", flush=True)\n",
        "\n",
        "        # Convert audio to text if mp3 exists\n",
        "        if os.path.exists(file_path):\n",
        "            # Assuming model is loaded elsewhere\n",
        "            result = model.transcribe(file_path)\n",
        "\n",
        "            # Display the recognized text\n",
        "            print(result[\"text\"])\n",
        "\n",
        "            # Extract the title from the filename\n",
        "            title = os.path.splitext(fn)[0]\n",
        "\n",
        "            # Save the recognized text to a file in Google Drive\n",
        "            output_path = f'/content/drive/MyDrive/{title}.txt'\n",
        "            with open(output_path, 'w') as file:\n",
        "                file.write(result[\"text\"])\n",
        "\n",
        "            # テキストファイルの内容を修正するロジック\n",
        "            if os.path.exists(output_path):\n",
        "                with open(output_path, \"r\", encoding=\"utf-8\") as file:\n",
        "                    content = file.read()\n",
        "\n",
        "                # ピリオドの後に改行を追加\n",
        "                updated_content = content.replace('。', '。\\n')\n",
        "\n",
        "                # 変更した内容を同じファイルに書き込む\n",
        "                with open(output_path, \"w\", encoding=\"utf-8\") as file:\n",
        "                    file.write(updated_content)\n",
        "\n",
        "            print(f\"テキストファイルは以下の場所に保存されました: {output_path}\")\n",
        "        else:\n",
        "            print(f\"指定されたファイルが存在しません: {file_path}\")\n",
        "\n",
        "# アップロードボタンのスタイル設定\n",
        "\n",
        "button_style = widgets.ButtonStyle(\n",
        "    button_color='green',  # Background color\n",
        "    font_weight='bold',        # Font weight\n",
        "    width='400px',             # Button width\n",
        "    height='150px'              # Button height\n",
        ")\n",
        "\n",
        "# mp4 mp3アップロードボタン\n",
        "upload_button = widgets.Button(description=\"mp3アップロードボタン\", style=button_style)\n",
        "upload_button.on_click(upload_and_convert)\n",
        "display(upload_button)"
      ]
    },
    {
      "cell_type": "markdown",
      "metadata": {
        "id": "7xQaPQ09ICJb"
      },
      "source": [
        "# ③Youtubeの動画をテキスト化する\n",
        "<h3>右下の欄にyoutubeのURLを入力して再生ボタン▶️を押せばテキストファイルがgoogle driveに保存されます。<br>\n",
        "必ず①を先に実行してから押して下さい。"
      ]
    },
    {
      "cell_type": "code",
      "execution_count": null,
      "metadata": {
        "id": "TBBbk68kPAa_"
      },
      "outputs": [],
      "source": [
        "get_ipython().system('pip install ffmpeg')\n",
        "import whisper\n",
        "#youtube動画をテキスト化\n",
        "youtube_url = \"https://www.youtube.com/watch?v=hoge\" #@param {type:\"string\"} { display-mode: \"form\" }\n",
        "!pip install pytube\n",
        "from pytube import YouTube\n",
        "\n",
        "#@title TITLE\n",
        "\n",
        "try:\n",
        "   video = YouTube(youtube_url)\n",
        "   stream = video.streams.filter(only_audio=True).first()\n",
        "   stream.download(filename=f\"{video.title}.mp3\")\n",
        "   print(\"mp3のダウンロードが完了しました。\")\n",
        "except KeyError:\n",
        "   print(\"エラーが発生しました。URLが間違っている可能性があります。\")\n",
        "\n",
        "#ここからaudio to text\n",
        "import os\n",
        "\n",
        "# Assuming model is already loaded as shown in your previous code\n",
        "mp3_path = f\"/content/{video.title}.mp3\"\n",
        "\n",
        "# ファイルが存在するか確認\n",
        "if os.path.exists(mp3_path):\n",
        "    # 音声をテキストに変換\n",
        "    result = model.transcribe(mp3_path)\n",
        "\n",
        "    # 結果を表示\n",
        "    print(result[\"text\"])\n",
        "\n",
        "    # Save the recognized text to a file in Google Drive\n",
        "    output_path = f'/content/drive/MyDrive/{video.title}.txt'\n",
        "    with open(output_path, 'w') as file:\n",
        "        file.write(result[\"text\"])\n",
        "\n",
        "    print(f\"テキストファイルは以下の場所にほぞんされました: {output_path}\")\n",
        "else:\n",
        "    print(f\"指定されたファイルが存在しません: {mp3_path}\")\n",
        "\n",
        "#txtに改行を加える\n",
        "if os.path.exists(output_path):\n",
        "    with open(output_path, \"r\", encoding=\"utf-8\") as file:\n",
        "        content = file.read()\n",
        "\n",
        "    # ピリオドの後に改行を追加\n",
        "    updated_content = content.replace('。', '。\\n')\n",
        "\n",
        "    # 変更した内容を同じファイルに書き込む\n",
        "    with open(output_path, \"w\", encoding=\"utf-8\") as file:\n",
        "        file.write(updated_content)\n",
        "\n"
      ]
    }
  ],
  "metadata": {
    "accelerator": "GPU",
    "colab": {
      "gpuType": "T4",
      "provenance": []
    },
    "kernelspec": {
      "display_name": "Python 3",
      "name": "python3"
    },
    "language_info": {
      "name": "python"
    }
  },
  "nbformat": 4,
  "nbformat_minor": 0
}
